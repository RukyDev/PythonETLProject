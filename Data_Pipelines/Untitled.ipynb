{
 "cells": [
  {
   "cell_type": "code",
   "execution_count": 1,
   "id": "3afd7ab7",
   "metadata": {},
   "outputs": [],
   "source": [
    "import pyodbc\n",
    "import pandas as pd\n",
    "import os"
   ]
  },
  {
   "cell_type": "code",
   "execution_count": 2,
   "id": "c32209e5",
   "metadata": {},
   "outputs": [],
   "source": [
    "uid = 'ruky'\n",
    "pwd = 'Emmanuel@68'\n",
    "server = 'RUKYDEV'\n",
    "database = 'AdventureWorksDW2019'\n",
    "driver = 'ODBC Driver 17 for SQL Server'"
   ]
  },
  {
   "cell_type": "code",
   "execution_count": 3,
   "id": "51ceb137",
   "metadata": {},
   "outputs": [
    {
     "name": "stdout",
     "output_type": "stream",
     "text": [
      "Connected to Database\n"
     ]
    }
   ],
   "source": [
    "# Connection\n",
    "conn = pyodbc.connect('DRIVER=' + driver + ';SERVER=' + server + '\\RUKYDEV' + \n",
    "                      ';DATABASE=' + database + ';UID=' + uid + ';PWD=' + pwd)\n",
    "print('Connected to Database')"
   ]
  },
  {
   "cell_type": "code",
   "execution_count": 4,
   "id": "8af44693",
   "metadata": {},
   "outputs": [
    {
     "name": "stdout",
     "output_type": "stream",
     "text": [
      "Empty DataFrame\n",
      "Columns: [ProductKey, DateKey, MovementDate, UnitCost, UnitsIn, UnitsOut, UnitsBalance]\n",
      "Index: []\n"
     ]
    }
   ],
   "source": [
    "  # Query Table\n",
    "sql = \"SELECT * FROM [dbo].[FactProductInventory]\"\n",
    "df = pd.read_sql_query(sql, conn)\n",
    "print(df.head())"
   ]
  },
  {
   "cell_type": "code",
   "execution_count": null,
   "id": "9bb674f6",
   "metadata": {},
   "outputs": [],
   "source": []
  }
 ],
 "metadata": {
  "kernelspec": {
   "display_name": "Python 3 (ipykernel)",
   "language": "python",
   "name": "python3"
  },
  "language_info": {
   "codemirror_mode": {
    "name": "ipython",
    "version": 3
   },
   "file_extension": ".py",
   "mimetype": "text/x-python",
   "name": "python",
   "nbconvert_exporter": "python",
   "pygments_lexer": "ipython3",
   "version": "3.7.8rc1"
  }
 },
 "nbformat": 4,
 "nbformat_minor": 5
}
